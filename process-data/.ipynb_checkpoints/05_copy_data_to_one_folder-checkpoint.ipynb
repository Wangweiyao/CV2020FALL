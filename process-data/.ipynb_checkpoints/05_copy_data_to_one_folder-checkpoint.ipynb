{
 "cells": [
  {
   "cell_type": "code",
   "execution_count": 30,
   "metadata": {},
   "outputs": [],
   "source": [
    "from shutil import copyfile\n",
    "import glob, os"
   ]
  },
  {
   "cell_type": "code",
   "execution_count": 29,
   "metadata": {},
   "outputs": [],
   "source": [
    "image_dst_dir = '/home/weiyao/data/UECFOOD100/Images/'\n",
    "for class_id in range(1,100):\n",
    "    image_src_dir = f'/home/weiyao/data/UECFOOD100/{class_id}/*.jpg'\n",
    "    image_dir_list = glob.glob(image_src_dir)\n",
    "    for image_dir in image_dir_list:\n",
    "        copyfile(image_dir, image_dst_dir+image_dir.split('/')[-1])"
   ]
  },
  {
   "cell_type": "code",
   "execution_count": null,
   "metadata": {},
   "outputs": [],
   "source": [
    "anno_dst_dir = '/home/weiyao/data/UECFOOD100/Annotations/'\n",
    "for class_id in range(1,100):\n",
    "    image_src_dir = f'/home/weiyao/data/UECFOOD100/{class_id}/annotations_new/*.xml'\n",
    "    image_dir_list = glob.glob(image_src_dir)\n",
    "    for image_dir in image_dir_list:\n",
    "        copyfile(image_dir, image_dst_dir+image_dir.split('/')[-1])"
   ]
  }
 ],
 "metadata": {
  "kernelspec": {
   "display_name": "Python 3",
   "language": "python",
   "name": "python3"
  },
  "language_info": {
   "codemirror_mode": {
    "name": "ipython",
    "version": 3
   },
   "file_extension": ".py",
   "mimetype": "text/x-python",
   "name": "python",
   "nbconvert_exporter": "python",
   "pygments_lexer": "ipython3",
   "version": "3.6.2"
  }
 },
 "nbformat": 4,
 "nbformat_minor": 4
}
