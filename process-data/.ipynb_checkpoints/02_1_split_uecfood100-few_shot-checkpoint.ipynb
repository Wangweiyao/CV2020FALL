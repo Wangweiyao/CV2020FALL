{
 "cells": [
  {
   "cell_type": "markdown",
   "metadata": {},
   "source": [
    "# 02_split_uecfood100"
   ]
  },
  {
   "cell_type": "markdown",
   "metadata": {},
   "source": [
    "- Split UECFOOD256 dataset to training, val, testing sets with ratio 0.7, 0.2, 0.1\n",
    "- Save img_dir, category_id, x1, y1, x2, y2 into txt file under train_uec256.txt, val_uec256.txt and test_uec256.txt."
   ]
  },
  {
   "cell_type": "code",
   "execution_count": 1,
   "metadata": {},
   "outputs": [],
   "source": [
    "import random\n",
    "import itertools\n",
    "import numpy as np\n",
    "import glob"
   ]
  },
  {
   "cell_type": "code",
   "execution_count": 2,
   "metadata": {},
   "outputs": [],
   "source": [
    "dataset_disk = '/home/weiyao/data/'\n",
    "#     uecfood100_path = dataset_disk + 'UECFOOD100_448'\n",
    "uecfood100_path = dataset_disk + 'UECFOOD100'\n",
    "wwfood100_path = dataset_disk + 'food53'\n",
    "category = 'category.txt'\n",
    "bbox_info = 'new_bb_info.txt'\n",
    "\n"
   ]
  },
  {
   "cell_type": "code",
   "execution_count": 6,
   "metadata": {},
   "outputs": [],
   "source": [
    "base_train = []\n",
    "with open(wwfood100_path + '/' + 'base_train.txt', 'r') as category_list:\n",
    "    for i, line in enumerate(category_list):\n",
    "        if i > 0:\n",
    "            line = line.rstrip('\\n')  # delete \\n in the end of th\n",
    "            # e line\n",
    "            line = line.split('\\t')\n",
    "            all_train.append(int(line[0]))\n",
    "\n",
    "novel_train = []\n",
    "with open(wwfood100_path + '/' + 'novel_train.txt', 'r') as category_list:\n",
    "    for i, line in enumerate(category_list):\n",
    "        if i > 0:\n",
    "            line = line.rstrip('\\n')  # delete \\n in the end of th\n",
    "            # e line\n",
    "            line = line.split('\\t')\n",
    "            novel_train.append(int(line[0]))"
   ]
  },
  {
   "cell_type": "code",
   "execution_count": 7,
   "metadata": {},
   "outputs": [
    {
     "data": {
      "text/plain": [
       "[10700,\n",
       " 10927,\n",
       " 11001,\n",
       " 11032,\n",
       " 11041,\n",
       " 11042,\n",
       " 11140,\n",
       " 11167,\n",
       " 11178,\n",
       " 11209,\n",
       " 11317,\n",
       " 11424,\n",
       " 11425,\n",
       " 11432,\n",
       " 11679,\n",
       " 1206,\n",
       " 1236,\n",
       " 1241,\n",
       " 12505,\n",
       " 1252,\n",
       " 12531,\n",
       " 1254,\n",
       " 12546,\n",
       " 1256,\n",
       " 1265,\n",
       " 1268,\n",
       " 12940,\n",
       " 12961,\n",
       " 12972,\n",
       " 12978,\n",
       " 12983,\n",
       " 13319,\n",
       " 13496,\n",
       " 13522,\n",
       " 13526,\n",
       " 13537,\n",
       " 13537,\n",
       " 13537,\n",
       " 13539,\n",
       " 13548,\n",
       " 13549,\n",
       " 13552,\n",
       " 13596,\n",
       " 13616,\n",
       " 13671,\n",
       " 13689,\n",
       " 13703,\n",
       " 13706,\n",
       " 13753,\n",
       " 13766,\n",
       " 13887,\n",
       " 13933,\n",
       " 13981,\n",
       " 14010,\n",
       " 14014,\n",
       " 14043,\n",
       " 14051,\n",
       " 14099,\n",
       " 14101,\n",
       " 14249,\n",
       " 14278,\n",
       " 14334,\n",
       " 14359,\n",
       " 14391,\n",
       " 14405,\n",
       " 14410,\n",
       " 14442,\n",
       " 14444,\n",
       " 14487,\n",
       " 14542,\n",
       " 14559,\n",
       " 14560,\n",
       " 14570,\n",
       " 14571,\n",
       " 14804,\n",
       " 14804,\n",
       " 14804,\n",
       " 14828,\n",
       " 14828,\n",
       " 14840,\n",
       " 14871,\n",
       " 14910,\n",
       " 14910,\n",
       " 14959,\n",
       " 15065,\n",
       " 1509,\n",
       " 15213,\n",
       " 15253,\n",
       " 1534,\n",
       " 15359,\n",
       " 15414,\n",
       " 15506,\n",
       " 1553,\n",
       " 1564,\n",
       " 15674,\n",
       " 15688,\n",
       " 1570,\n",
       " 15703,\n",
       " 1576,\n",
       " 15832,\n",
       " 1590,\n",
       " 16374,\n",
       " 16722,\n",
       " 16755,\n",
       " 16758,\n",
       " 16763,\n",
       " 16797,\n",
       " 1685,\n",
       " 1696,\n",
       " 1726,\n",
       " 1731,\n",
       " 1744,\n",
       " 1755,\n",
       " 1759,\n",
       " 1802,\n",
       " 1827,\n",
       " 1848,\n",
       " 1860,\n",
       " 1866,\n",
       " 1871,\n",
       " 1886,\n",
       " 2499,\n",
       " 2528,\n",
       " 2544,\n",
       " 2546,\n",
       " 2548,\n",
       " 2558,\n",
       " 2561,\n",
       " 2700,\n",
       " 2728,\n",
       " 2744,\n",
       " 2746,\n",
       " 2748,\n",
       " 2757,\n",
       " 2760,\n",
       " 2798,\n",
       " 2826,\n",
       " 2843,\n",
       " 2845,\n",
       " 2847,\n",
       " 2857,\n",
       " 2860,\n",
       " 2899,\n",
       " 2929,\n",
       " 2934,\n",
       " 2946,\n",
       " 2948,\n",
       " 2950,\n",
       " 2958,\n",
       " 2959,\n",
       " 2962,\n",
       " 3098,\n",
       " 3127,\n",
       " 3143,\n",
       " 3145,\n",
       " 3148,\n",
       " 3159,\n",
       " 3163,\n",
       " 3600,\n",
       " 3628,\n",
       " 3633,\n",
       " 3644,\n",
       " 3646,\n",
       " 3648,\n",
       " 3657,\n",
       " 3661,\n",
       " 3698,\n",
       " 3730,\n",
       " 3736,\n",
       " 3749,\n",
       " 3751,\n",
       " 3753,\n",
       " 3761,\n",
       " 3762,\n",
       " 3765,\n",
       " 3798,\n",
       " 3828,\n",
       " 3833,\n",
       " 3845,\n",
       " 3847,\n",
       " 3849,\n",
       " 3857,\n",
       " 3858,\n",
       " 3861,\n",
       " 4000,\n",
       " 4028,\n",
       " 4033,\n",
       " 4045,\n",
       " 4047,\n",
       " 4049,\n",
       " 4058,\n",
       " 4059,\n",
       " 4062,\n",
       " 4697,\n",
       " 4726,\n",
       " 4742,\n",
       " 4744,\n",
       " 4746,\n",
       " 4755,\n",
       " 4759,\n",
       " 4993,\n",
       " 5024,\n",
       " 5029,\n",
       " 5040,\n",
       " 5043,\n",
       " 5045,\n",
       " 5055,\n",
       " 5058,\n",
       " 5296,\n",
       " 5327,\n",
       " 5333,\n",
       " 5345,\n",
       " 5347,\n",
       " 5350,\n",
       " 5360,\n",
       " 5361,\n",
       " 5364,\n",
       " 5499,\n",
       " 5524,\n",
       " 5547,\n",
       " 5558,\n",
       " 5566,\n",
       " 5571,\n",
       " 5586,\n",
       " 5592,\n",
       " 5625,\n",
       " 5631,\n",
       " 5644,\n",
       " 5655,\n",
       " 5658,\n",
       " 611,\n",
       " 636,\n",
       " 6494,\n",
       " 6527,\n",
       " 6533,\n",
       " 6544,\n",
       " 6546,\n",
       " 6548,\n",
       " 6558,\n",
       " 6559,\n",
       " 6562,\n",
       " 659,\n",
       " 6594,\n",
       " 6622,\n",
       " 6628,\n",
       " 6639,\n",
       " 6641,\n",
       " 6643,\n",
       " 6652,\n",
       " 6653,\n",
       " 6656,\n",
       " 671,\n",
       " 677,\n",
       " 682,\n",
       " 696,\n",
       " 6964,\n",
       " 7329,\n",
       " 7336,\n",
       " 7354,\n",
       " 7376,\n",
       " 7388,\n",
       " 7394,\n",
       " 7399,\n",
       " 7413,\n",
       " 7420,\n",
       " 7425,\n",
       " 7429,\n",
       " 7541,\n",
       " 7572,\n",
       " 7577,\n",
       " 7589,\n",
       " 7591,\n",
       " 7593,\n",
       " 7601,\n",
       " 7602,\n",
       " 7605,\n",
       " 7644,\n",
       " 7675,\n",
       " 7680,\n",
       " 7691,\n",
       " 7693,\n",
       " 7695,\n",
       " 7704,\n",
       " 7707,\n",
       " 7845,\n",
       " 7874,\n",
       " 7882,\n",
       " 7894,\n",
       " 7896,\n",
       " 7898,\n",
       " 7906,\n",
       " 7907,\n",
       " 7911,\n",
       " 8243,\n",
       " 8271,\n",
       " 8277,\n",
       " 8288,\n",
       " 8290,\n",
       " 8292,\n",
       " 8301,\n",
       " 8304,\n",
       " 8443,\n",
       " 8472,\n",
       " 8477,\n",
       " 8488,\n",
       " 8491,\n",
       " 8493,\n",
       " 8502,\n",
       " 8503,\n",
       " 8506,\n",
       " 9092,\n",
       " 9097,\n",
       " 9166,\n",
       " 9173,\n",
       " 9174,\n",
       " 9185,\n",
       " 9198,\n",
       " 9237,\n",
       " 9243,\n",
       " 9248,\n",
       " 9262,\n",
       " 9277,\n",
       " 9305,\n",
       " 9309,\n",
       " 9329,\n",
       " 9344,\n",
       " 9370,\n",
       " 9373]"
      ]
     },
     "execution_count": 7,
     "metadata": {},
     "output_type": "execute_result"
    }
   ],
   "source": [
    "novel_train"
   ]
  },
  {
   "cell_type": "code",
   "execution_count": null,
   "metadata": {},
   "outputs": [],
   "source": []
  },
  {
   "cell_type": "code",
   "execution_count": 8,
   "metadata": {},
   "outputs": [],
   "source": [
    "\n",
    "# Put first column (id) and second column (name) from category.txt into two lists\n",
    "category_ids = []\n",
    "category_names = []\n",
    "with open(uecfood100_path + '/' + category, 'r') as category_list:\n",
    "    for i, line in enumerate(category_list):\n",
    "        if i > 0:\n",
    "            line = line.rstrip('\\n')  # delete \\n in the end of th\n",
    "            # e line\n",
    "            line = line.split('\\t')\n",
    "            category_ids.append(int(line[0]))\n",
    "            category_names.append(line[1])\n",
    "\n",
    "# Read bb_info.txt based on category id\n",
    "category_images = []\n",
    "category_bbox = []\n",
    "for id_index, id in enumerate(category_ids):\n",
    "    category_images.append([])\n",
    "    category_bbox.append([])\n",
    "    with open(uecfood100_path + '/' + str(id) + '/' + bbox_info, 'r') as bbox_list:\n",
    "        for i, line in enumerate(bbox_list):\n",
    "            if i > 0:\n",
    "                line = line.rstrip('\\n')\n",
    "                line = line.split(' ')\n",
    "                if int(line[0]) in [14577, 15367, 13645, 2486, 12064, 15216, 13882, 15469]:\n",
    "                    continue # dont include data with wrong image shape\n",
    "                category_images[id_index].append(line[0])\n",
    "                category_bbox[id_index].append(list(map(float, line[1:])))"
   ]
  },
  {
   "cell_type": "code",
   "execution_count": 9,
   "metadata": {},
   "outputs": [],
   "source": [
    "clean_256_images = glob.glob('/home/weiyao/data/yolov5_food256_cleaned/images/train/*') + glob.glob('/home/weiyao/data/yolov5_food256_cleaned/images/val/*')\n",
    "clean_256_images_idxs = []\n",
    "for i in range(len(clean_256_images)):\n",
    "    clean_256_images_idxs.append(int(clean_256_images[i].split('/')[-1].split('.')[0]))"
   ]
  },
  {
   "cell_type": "code",
   "execution_count": 10,
   "metadata": {},
   "outputs": [
    {
     "name": "stdout",
     "output_type": "stream",
     "text": [
      "27954\n"
     ]
    }
   ],
   "source": [
    "all_clean_list = []\n",
    "with open('all_cleaned.txt') as f:\n",
    "    for i, line in enumerate(f):\n",
    "        line = line.rstrip('\\n')\n",
    "        all_clean_list.append(int(line))\n",
    "print(len(all_clean_list))"
   ]
  },
  {
   "cell_type": "code",
   "execution_count": 11,
   "metadata": {},
   "outputs": [
    {
     "name": "stdout",
     "output_type": "stream",
     "text": [
      "Left 13530 images\n"
     ]
    }
   ],
   "source": [
    "new_category_images = []\n",
    "count = 0\n",
    "for img_list in category_images:\n",
    "    new_list = []\n",
    "    for img in img_list:\n",
    "        if int(img) in clean_256_images_idxs:\n",
    "            new_list.append(img)\n",
    "            count+=1\n",
    "    new_category_images.append(new_list)\n",
    "\n",
    "category_images = new_category_images\n",
    "print(f'Left {count} images')"
   ]
  },
  {
   "cell_type": "code",
   "execution_count": 12,
   "metadata": {},
   "outputs": [
    {
     "name": "stdout",
     "output_type": "stream",
     "text": [
      "Left 13524 images\n"
     ]
    }
   ],
   "source": [
    "new_category_images = []\n",
    "count = 0\n",
    "for img_list in category_images:\n",
    "    new_list = []\n",
    "    for img in img_list:\n",
    "        if int(img) in all_clean_list:\n",
    "            new_list.append(img)\n",
    "            count+=1\n",
    "    new_category_images.append(new_list)\n",
    "\n",
    "category_images = new_category_images\n",
    "print(f'Left {count} images')"
   ]
  },
  {
   "cell_type": "code",
   "execution_count": 13,
   "metadata": {
    "code_folding": [
     3
    ]
   },
   "outputs": [],
   "source": [
    "import cv2\n",
    "import matplotlib.pyplot as plt\n",
    "import glob\n",
    "def plot_class_ex(class_id):\n",
    "    print(category_names[class_id-1])\n",
    "    plt.figure()\n",
    "    img_path = glob.glob(uecfood100_path+f'/{class_id}/*.jpg')[1]\n",
    "    img = cv2.imread(img_path)\n",
    "    plt.imshow(img[:,:,::-1])\n",
    "    plt.figure()\n",
    "    img_path = glob.glob(uecfood100_path+f'/{class_id}/*.jpg')[-2]\n",
    "    img = cv2.imread(img_path)\n",
    "    plt.imshow(img[:,:,::-1])"
   ]
  },
  {
   "cell_type": "code",
   "execution_count": 14,
   "metadata": {
    "code_folding": [
     0
    ]
   },
   "outputs": [],
   "source": [
    "def get_map_dict():\n",
    "    new_class_dict = {}\n",
    "    new_class_dict['rice'] = ['rice',]\n",
    "    new_class_dict['rice bowl'] = ['eels on rice',\"chicken-'n'-egg on rice\", \"pork cutlet on rice\", \"tempura bowl\",\"bibimbap\",\"beef bowl\"]\n",
    "    new_class_dict['fried rice'] = ['pilaf','chicken rice','fried rice',\"mixed rice\"]\n",
    "    new_class_dict['curry bowl'] = ['beef curry',\"cutlet curry\"]\n",
    "    new_class_dict['sushi'] = [\"sushi\"]\n",
    "    new_class_dict['toast'] = [\"toast\",\"pizza toast\"]\n",
    "    new_class_dict['croissant'] = [\"croissant\"]\n",
    "    new_class_dict['bread'] = [\"roll bread\",\"raisin bread\",]\n",
    "    new_class_dict['hamburger'] = [\"hamburger\",]\n",
    "    new_class_dict['pizza'] = [\"pizza\",]\n",
    "    new_class_dict['sandwiches'] = [\"sandwiches\",]\n",
    "    new_class_dict['noodle or ramen'] = [\"udon noodle\",\"tempura udon\",\"soba noodle\",\"ramen noodle\",\"beef noodle\",\"tensin noodle\",\"dipping noodles\"]\n",
    "    new_class_dict['fried noodle'] = [\"fried noodle\"]\n",
    "    new_class_dict['spaghetti'] = [\"spaghetti\",\"spaghetti meat sauce\"]\n",
    "    new_class_dict['stir fry or boiled vegetables'] = [\"sauteed vegetables\",\"grilled eggplant\",\"sauteed spinach\",\"kinpira-style sauteed burdock\",\"goya chanpuru\"]\n",
    "    new_class_dict['omelet'] = [\"omelet\",\"rolled omelet\",\"omelet with fried rice\"]\n",
    "    new_class_dict['dumpling'] = [\"jiaozi\",\"steamed meat dumpling\"]\n",
    "    new_class_dict['stew'] = [\"stew\",\"seasoned beef with potatoes\"]\n",
    "    new_class_dict['fish'] = [\"teriyaki grilled fish\",\"grilled salmon\",\"salmon meuniere\",\"grilled pacific saury\",\"lightly roasted fish\",\"nanbanzuke\",\"boiled fish\",\"dried fish\",\"fried fish\",]\n",
    "    new_class_dict['sashimi'] = [\"sashimi\",]\n",
    "    new_class_dict['hot pot'] = [\"sukiyaki\",]\n",
    "    new_class_dict['stir fried or boil meat'] = [\"sweet and sour pork\",\"ginger pork saute\",\"stir-fried beef and peppers\",\"boiled chicken and vegetables\",]\n",
    "    new_class_dict['fried chicken'] = [\"fried chicken\",]\n",
    "    new_class_dict['steak'] = [\"hambarg steak\",\"beef steak\"]\n",
    "    new_class_dict['egg'] = [\"egg sunny-side up\",]\n",
    "    new_class_dict['shrimp'] = [\"shrimp with chill source\",\"fried shrimp\"]\n",
    "    new_class_dict['roast chicken'] = [\"roast chicken\",]\n",
    "    new_class_dict['salad'] = [\"potato salad\",\"green salad\",\"macaroni salad\"]\n",
    "    new_class_dict['soup'] = [\"Japanese tofu and vegetable chowder\",\"pork miso soup\",\"chinese soup\",\"miso soup\"]\n",
    "    new_class_dict['hot dog'] = [\"hot dog\"]\n",
    "    new_class_dict['french fries'] = [\"french fries\"]\n",
    "    new_class_dict['tofu'] = [\"spicy chili-flavored tofu\",\"cold tofu\"]\n",
    "\n",
    "    new_class_dict['chip butty'] = [\"chip butty\",]\n",
    "    new_class_dict['Japanese-style pancake'] = [\"Japanese-style pancake\",]\n",
    "    new_class_dict['takoyaki'] = [\"takoyaki\",]\n",
    "    new_class_dict['gratin'] = [\"gratin\",]\n",
    "    new_class_dict['croquette'] = [\"croquette\",]\n",
    "    new_class_dict['tempura'] = [\"tempura\",\"vegetable tempura\",]\n",
    "    new_class_dict['potage'] = [\"potage\",]\n",
    "    new_class_dict['sausage'] = [\"sausage\",]\n",
    "    new_class_dict['oden'] = [\"oden\",]\n",
    "    new_class_dict['ganmodoki'] = [\"ganmodoki\",]\n",
    "    new_class_dict['steamed egg hotchpotch'] = [\"steamed egg hotchpotch\",]\n",
    "    new_class_dict['sirloin cutlet'] = [\"sirloin cutlet\",]\n",
    "    new_class_dict['skewer'] = [\"yakitori\",]\n",
    "    new_class_dict['cabbage roll'] = [\"cabbage roll\",]\n",
    "    new_class_dict['fermented soybeans'] = [\"fermented soybeans\",]\n",
    "    new_class_dict['egg roll'] = [\"egg roll\",]\n",
    "    new_class_dict['chilled noodle'] = [\"chilled noodle\",]\n",
    "    new_class_dict['simmered meat'] = [\"simmered pork\",]\n",
    "    new_class_dict['fish bowl'] = [\"sushi bowl\",\"sashimi bowl\",]\n",
    "    new_class_dict['fish-shaped pancake with bean jam'] = [\"fish-shaped pancake with bean jam\",]\n",
    "    new_class_dict['rice ball'] = [\"rice ball\",]\n",
    "    \n",
    "    map_dict = {}\n",
    "    for new_class in new_class_dict.keys():\n",
    "        old_classes = new_class_dict[new_class]\n",
    "        for old_class in old_classes:\n",
    "            map_dict[old_class] = new_class\n",
    "    \n",
    "    return map_dict, new_class_dict"
   ]
  },
  {
   "cell_type": "code",
   "execution_count": 15,
   "metadata": {},
   "outputs": [],
   "source": [
    "map_dict, new_class_dict = get_map_dict()\n",
    "new_category_names = list(new_class_dict.keys())"
   ]
  },
  {
   "cell_type": "code",
   "execution_count": 16,
   "metadata": {},
   "outputs": [],
   "source": [
    "new_category_count = {}"
   ]
  },
  {
   "cell_type": "code",
   "execution_count": 17,
   "metadata": {},
   "outputs": [],
   "source": [
    "for category_id, category_name in enumerate(category_names):\n",
    "    new_category_name = map_dict[category_name]\n",
    "    if new_category_name not in new_category_count.keys():\n",
    "        new_category_count[new_category_name] = len(category_images[category_id])\n",
    "    else:\n",
    "        new_category_count[new_category_name] += len(category_images[category_id])"
   ]
  },
  {
   "cell_type": "code",
   "execution_count": 18,
   "metadata": {},
   "outputs": [
    {
     "data": {
      "text/plain": [
       "(array([30., 11.,  3.,  1.,  3.,  1.,  1.,  0.,  0.,  3.]),\n",
       " array([  93. ,  189.7,  286.4,  383.1,  479.8,  576.5,  673.2,  769.9,\n",
       "         866.6,  963.3, 1060. ]),\n",
       " <a list of 10 Patch objects>)"
      ]
     },
     "execution_count": 18,
     "metadata": {},
     "output_type": "execute_result"
    },
    {
     "data": {
      "image/png": "[encoded data removed]",
      "text/plain": [
       "<Figure size 432x288 with 1 Axes>"
      ]
     },
     "metadata": {
      "needs_background": "light"
     },
     "output_type": "display_data"
    }
   ],
   "source": [
    "plt.hist([v for k, v in sorted(new_category_count.items(), key=lambda item: item[1])])"
   ]
  },
  {
   "cell_type": "code",
   "execution_count": 19,
   "metadata": {},
   "outputs": [
    {
     "name": "stdout",
     "output_type": "stream",
     "text": [
      "23\n",
      "['rice', 'rice bowl', 'fried rice', 'curry bowl', 'toast', 'bread', 'hamburger', 'noodle or ramen', 'spaghetti', 'stir fry or boiled vegetables', 'tempura', 'soup', 'omelet', 'dumpling', 'stew', 'fish', 'stir fried or boil meat', 'steak', 'tofu', 'egg', 'fish bowl', 'shrimp', 'salad']\n",
      "30\n",
      "['sushi', 'croissant', 'chip butty', 'pizza', 'sandwiches', 'fried noodle', 'Japanese-style pancake', 'takoyaki', 'gratin', 'croquette', 'potage', 'sausage', 'oden', 'ganmodoki', 'sashimi', 'hot pot', 'steamed egg hotchpotch', 'fried chicken', 'sirloin cutlet', 'skewer', 'cabbage roll', 'fermented soybeans', 'egg roll', 'chilled noodle', 'simmered meat', 'fish-shaped pancake with bean jam', 'roast chicken', 'rice ball', 'hot dog', 'french fries']\n"
     ]
    }
   ],
   "source": [
    "base_labels = [key for (key,value) in new_category_count.items() if value >=200]\n",
    "print(len(base_labels))\n",
    "print(base_labels)\n",
    "novel_labels = [key for (key,value) in new_category_count.items() if value <200]\n",
    "print(len(novel_labels))\n",
    "print(novel_labels)"
   ]
  },
  {
   "cell_type": "code",
   "execution_count": 14,
   "metadata": {},
   "outputs": [],
   "source": [
    "file = open(wwfood100_path + '/labels.txt', 'w')\n",
    "for c in category_names:\n",
    "    file.write(c + '\\n')\n",
    "file.close()\n",
    "\n",
    "file = open(wwfood100_path + '/new_labels.txt', 'w')\n",
    "for c in new_category_names:\n",
    "    file.write(c + '\\n')\n",
    "file.close()\n",
    "\n",
    "file = open(wwfood100_path + '/base_labels.txt', 'w')\n",
    "for c in base_labels:\n",
    "    file.write(c + '\\n')\n",
    "file.close()\n",
    "\n",
    "file = open(wwfood100_path + '/novel_labels.txt', 'w')\n",
    "for c in novel_labels:\n",
    "    file.write(c + '\\n')\n",
    "file.close()"
   ]
  },
  {
   "cell_type": "markdown",
   "metadata": {},
   "source": [
    "# Base/novel split"
   ]
  },
  {
   "cell_type": "code",
   "execution_count": 20,
   "metadata": {},
   "outputs": [],
   "source": [
    "base_original_category_idxs = []\n",
    "for idx,category_name in enumerate(category_names):\n",
    "    new_category_name = map_dict[category_name]\n",
    "    if new_category_name in base_labels:\n",
    "        base_original_category_idxs.append(idx)\n",
    "        \n",
    "novel_original_category_idxs = []\n",
    "for idx,category_name in enumerate(category_names):\n",
    "    new_category_name = map_dict[category_name]\n",
    "    if new_category_name in novel_labels:\n",
    "        novel_original_category_idxs.append(idx)"
   ]
  },
  {
   "cell_type": "code",
   "execution_count": 22,
   "metadata": {},
   "outputs": [],
   "source": [
    "base_category_images = [category_images[idx] for idx in base_original_category_idxs]\n",
    "novel_category_images = [category_images[idx] for idx in novel_original_category_idxs]"
   ]
  },
  {
   "cell_type": "code",
   "execution_count": 23,
   "metadata": {},
   "outputs": [],
   "source": [
    "base_category_images_raw = [item for sublist in base_category_images for item in sublist]\n",
    "novel_category_images_raw = [item for sublist in novel_category_images for item in sublist]"
   ]
  },
  {
   "cell_type": "code",
   "execution_count": 24,
   "metadata": {},
   "outputs": [],
   "source": [
    "intersection_images = set(base_category_images_raw) & set(novel_category_images_raw)"
   ]
  },
  {
   "cell_type": "code",
   "execution_count": 25,
   "metadata": {},
   "outputs": [
    {
     "name": "stdout",
     "output_type": "stream",
     "text": [
      "9896\n",
      "3628\n",
      "254\n"
     ]
    }
   ],
   "source": [
    "print(len(base_category_images_raw))\n",
    "print(len(novel_category_images_raw))\n",
    "print(len(intersection_images))"
   ]
  },
  {
   "cell_type": "code",
   "execution_count": 26,
   "metadata": {},
   "outputs": [],
   "source": [
    "screened_base_category_images = []\n",
    "for images in base_category_images:\n",
    "    screened_base_category_images.append([img for img in images if img not in intersection_images])"
   ]
  },
  {
   "cell_type": "code",
   "execution_count": 27,
   "metadata": {},
   "outputs": [
    {
     "data": {
      "text/plain": [
       "9445"
      ]
     },
     "execution_count": 27,
     "metadata": {},
     "output_type": "execute_result"
    }
   ],
   "source": [
    "screened_base_category_images_raw = [item for sublist in screened_base_category_images for item in sublist]\n",
    "len(screened_base_category_images_raw)"
   ]
  },
  {
   "cell_type": "code",
   "execution_count": null,
   "metadata": {
    "code_folding": []
   },
   "outputs": [],
   "source": [
    "def save_txt(files_generated, split, category_ids, category_images):\n",
    "    # Split categories to train/val/test with ratio define before\n",
    "    1_shot_list = []\n",
    "    3_shot_list = []\n",
    "    5_shot_list = []\n",
    "    10_shot_list = []\n",
    "    \n",
    "    for id_index, id in enumerate(category_ids):\n",
    "        category_images[id_index]\n",
    "        \n",
    "        screened_list = []\n",
    "        for im in category_images[id_index]:\n",
    "            if \n",
    "        \n",
    "        \n",
    "    #### Training set\n",
    "    file_1_shot = open(wwfood100_path + '/' + files_generated[0] + '_1_shot' + '.txt', 'w')\n",
    "    file_3_shot = open(wwfood100_path + '/' + files_generated[0] + '_3_shot' + '.txt', 'w')\n",
    "    file_5_shot = open(wwfood100_path + '/' + files_generated[0] + '_5_shot' + '.txt', 'w')\n",
    "    file_10_shot = open(wwfood100_path + '/' + files_generated[0] + '_10_shot' + '.txt', 'w')\n",
    "    #file.write('img category_id x1 y1 x2 y2\\n')  # header\n",
    "\n",
    "        for idx, occ in enumerate(occurrences):\n",
    "            img_path = occ[0]\n",
    "            img_id = img_path.split('/')[-1].split('.')[0]\n",
    "            if idx<1:\n",
    "                file_1_shot.write(img_id + '\\n')\n",
    "            if idx<3:\n",
    "                file_3_shot.write(img_id + '\\n')\n",
    "            if idx<5:\n",
    "                file_5_shot.write(img_id + '\\n')\n",
    "            if idx<10:\n",
    "                file_10_shot.write(img_id + '\\n')\n",
    "            #img_category = occ[1]\n",
    "            #img_bbox = str(occ[2]) + ' ' + str(occ[3]) + ' ' + str(occ[4]) + ' ' + str(occ[5])\n",
    "            #file.write(img_path + ' ' + img_category + ' ' + img_bbox + '\\n')\n",
    "            \n",
    "    file_1_shot.close()\n",
    "    file_3_shot.close()\n",
    "    file_5_shot.close()\n",
    "    file_10_shot.close()\n",
    "    \n",
    "\n",
    "    print('Done!')"
   ]
  },
  {
   "cell_type": "code",
   "execution_count": null,
   "metadata": {},
   "outputs": [],
   "source": [
    "split = [0.7, 0.2, 0.1]\n",
    "files_generated = ['base_train', 'base_val', 'base_test']\n",
    "save_txt(files_generated, split, np.arange(len(base_original_category_idxs)), screened_base_category_images)"
   ]
  },
  {
   "cell_type": "code",
   "execution_count": null,
   "metadata": {},
   "outputs": [],
   "source": [
    "split = [0.1, 0.2, 0.7]\n",
    "files_generated = ['novel_train', 'novel_val', 'novel_test']\n",
    "save_txt(files_generated, split, np.arange(len(novel_original_category_idxs)), novel_category_images)"
   ]
  }
 ],
 "metadata": {
  "kernelspec": {
   "display_name": "Python 3",
   "language": "python",
   "name": "python3"
  },
  "language_info": {
   "codemirror_mode": {
    "name": "ipython",
    "version": 3
   },
   "file_extension": ".py",
   "mimetype": "text/x-python",
   "name": "python",
   "nbconvert_exporter": "python",
   "pygments_lexer": "ipython3",
   "version": "3.6.2"
  }
 },
 "nbformat": 4,
 "nbformat_minor": 2
}
