{
 "cells": [
  {
   "cell_type": "code",
   "execution_count": 1,
   "metadata": {},
   "outputs": [],
   "source": [
    "from shutil import copyfile\n",
    "import glob, os"
   ]
  },
  {
   "cell_type": "code",
   "execution_count": 2,
   "metadata": {},
   "outputs": [],
   "source": [
    "image_dst_dir = '/home/weiyao/data/UECFOOD100/Images/'\n",
    "for class_id in range(1,100):\n",
    "    image_src_dir = f'/home/weiyao/data/UECFOOD100/{class_id}/*.jpg'\n",
    "    image_dir_list = glob.glob(image_src_dir)\n",
    "    for image_dir in image_dir_list:\n",
    "        copyfile(image_dir, image_dst_dir+image_dir.split('/')[-1])"
   ]
  },
  {
   "cell_type": "code",
   "execution_count": 3,
   "metadata": {},
   "outputs": [],
   "source": [
    "anno_dst_dir = '/home/weiyao/data/UECFOOD100/Annotations/'\n",
    "for class_id in range(1,100):\n",
    "    anno_src_dir = f'/home/weiyao/data/UECFOOD100/{class_id}/annotations_new/*.xml'\n",
    "    anno_dir_list = glob.glob(anno_src_dir)\n",
    "    for anno_dir in anno_dir_list:\n",
    "        copyfile(anno_dir, anno_dst_dir+anno_dir.split('/')[-1])"
   ]
  },
  {
   "cell_type": "code",
   "execution_count": 4,
   "metadata": {},
   "outputs": [],
   "source": [
    "image_distribution = []\n",
    "image_dst_dir = '/home/weiyao/data/UECFOOD100/Images/'\n",
    "for class_id in range(1,100):\n",
    "    image_src_dir = f'/home/weiyao/data/UECFOOD100/{class_id}/*.jpg'\n",
    "    image_dir_list = glob.glob(image_src_dir)\n",
    "    image_distribution.append(len(image_dir_list))"
   ]
  },
  {
   "cell_type": "code",
   "execution_count": 9,
   "metadata": {
    "scrolled": true
   },
   "outputs": [],
   "source": [
    "FOOD_CLASSES = []\n",
    "\n",
    "dataset_disk = '/home/weiyao/data/'\n",
    "uecfood100_path = dataset_disk + 'UECFOOD100/'\n",
    "category = 'category.txt'\n",
    "\n",
    "# Put first column (id) and second column (name) from category.txt into two lists\n",
    "category_ids = []\n",
    "category_names = []\n",
    "with open(uecfood100_path + '/' + category, 'r') as category_list:\n",
    "    for i, line in enumerate(category_list):\n",
    "        if i > 0:\n",
    "            line = line.rstrip('\\n')  # delete \\n in the end of th\n",
    "            # e line\n",
    "            line = line.split('\\t')\n",
    "            FOOD_CLASSES.append(line[1])"
   ]
  },
  {
   "cell_type": "code",
   "execution_count": 11,
   "metadata": {},
   "outputs": [
    {
     "data": {
      "text/plain": [
       "12640"
      ]
     },
     "execution_count": 11,
     "metadata": {},
     "output_type": "execute_result"
    }
   ],
   "source": [
    "dir_to_check = '/home/weiyao/data/UECFOOD100/Images/*'\n",
    "len(glob.glob(dir_to_check))"
   ]
  },
  {
   "cell_type": "code",
   "execution_count": 12,
   "metadata": {},
   "outputs": [
    {
     "data": {
      "text/plain": [
       "12640"
      ]
     },
     "execution_count": 12,
     "metadata": {},
     "output_type": "execute_result"
    }
   ],
   "source": [
    "dir_to_check = '/home/weiyao/data/UECFOOD100/Annotations/*'\n",
    "len(glob.glob(dir_to_check))"
   ]
  }
 ],
 "metadata": {
  "kernelspec": {
   "display_name": "Python 3",
   "language": "python",
   "name": "python3"
  },
  "language_info": {
   "codemirror_mode": {
    "name": "ipython",
    "version": 3
   },
   "file_extension": ".py",
   "mimetype": "text/x-python",
   "name": "python",
   "nbconvert_exporter": "python",
   "pygments_lexer": "ipython3",
   "version": "3.6.2"
  }
 },
 "nbformat": 4,
 "nbformat_minor": 4
}
